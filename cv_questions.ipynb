{
 "cells": [
  {
   "cell_type": "markdown",
   "id": "4c2779b8-5fc4-4175-9431-d6b9a2866532",
   "metadata": {},
   "source": [
    "# use gradio to make an Agent that answers questions"
   ]
  },
  {
   "cell_type": "code",
   "execution_count": 79,
   "id": "8ef122db-6187-4cad-bf81-9b7bf2cec28d",
   "metadata": {},
   "outputs": [],
   "source": [
    "import gradio as gr\n",
    "from dotenv import load_dotenv\n",
    "import os\n",
    "import glob\n",
    "import requests\n",
    "from bs4 import BeautifulSoup\n",
    "\n",
    "from openai import OpenAI\n",
    "from langchain_community.document_loaders import PyPDFLoader\n",
    "from langchain.text_splitter import CharacterTextSplitter\n",
    "from langchain_openai import OpenAIEmbeddings, ChatOpenAI\n",
    "from langchain.document_loaders import DirectoryLoader\n",
    "from langchain.text_splitter import RecursiveCharacterTextSplitter\n",
    "from langchain_chroma import Chroma\n",
    "from langchain.memory import ConversationBufferMemory\n",
    "from langchain.chains import ConversationalRetrievalChain"
   ]
  },
  {
   "cell_type": "code",
   "execution_count": 80,
   "id": "c032ecb0-595a-4d6d-b193-5c4f84e50431",
   "metadata": {},
   "outputs": [],
   "source": [
    "# Set the Model and db name\n",
    "MODEL = \"gpt-4o-mini\"\n",
    "db_name = \"cv_db\"\n",
    "# Load all the necesssary keys\n",
    "load_dotenv(override=True)\n",
    "api_key = os.getenv('OPENAI_API_KEY')\n",
    "LinkedIN_Username = os.getenv('LinkedIN_Username')\n",
    "LinkedIN_Password = os.getenv('LinkedIN_Password')\n",
    "\n",
    "openai = OpenAI()\n",
    "\n",
    "cvs = glob.glob(\"cv_base/*\")\n",
    "#print(cvs)"
   ]
  },
  {
   "cell_type": "code",
   "execution_count": null,
   "id": "7cb2b5d6-2d49-4629-836c-a92bdd2ee600",
   "metadata": {},
   "outputs": [],
   "source": [
    "# Use selenium to scrap the LinkedIN page.\n",
    "from selenium import webdriver\n",
    "from selenium.webdriver.common.by import By\n",
    "from selenium.webdriver.chrome.service import Service\n",
    "from selenium.webdriver.support.ui import WebDriverWait\n",
    "from selenium.webdriver.support import expected_conditions as EC\n",
    "from bs4 import BeautifulSoup\n",
    "import json, time\n",
    "\n",
    "# The url to the job dessertation on LinkedIN\n",
    "url = \"https://www.linkedin.com/jobs/view/4226197789/?trackingId=zk%2ByEzpoTFiTsP634Rm9zw%3D%3D&refId=AaSi7zWcRzWrMGUNJ9ylVg%3D%3D&midToken=AQFvwOwdGoBHsg&midSig=2MRozsjx59vrM1&trk=eml-jobs_jymbii_digest-job_card-0-jobcard_body&trkEmail=eml-jobs_jymbii_digest-job_card-0-jobcard_body-null-ajjmth~maxh1xlm~iz-null-null&eid=ajjmth-maxh1xlm-iz&otpToken=MTQwNjE5ZTQxYjJlY2NjNGI1MjQwNGVkNDIxOWVmYjQ4Y2NhZDY0MDlkYWI4ZDYxNzdjMTAxNmE0OTUzNTlmN2Y2ZDZkZmE1NzhlNGJkZTY0M2ZlZjg2NTY1YWE5NjM4MThmYmVmYWVjYTY2ZGRlNjgyYTdiYSwxLDE%3D\"\n",
    "\n",
    "#class_name = \"jobs-box__html-content\"\n",
    "class_name = \"application-outlet\"\n",
    "\n",
    "driver = webdriver.Chrome()\n",
    "driver.get(\"https://www.linkedin.com/login\")\n",
    "\n",
    "# Enter username and password\n",
    "driver.find_element(By.ID, \"username\").send_keys(LinkedIN_Username)\n",
    "driver.find_element(By.ID, \"password\").send_keys(LinkedIN_Password)\n",
    "driver.find_element(By.XPATH, \"//button[@type='submit']\").click()\n",
    "driver.get(url)\n",
    "\n",
    "# Wait for job description to load\n",
    "WebDriverWait(driver, 10).until(\n",
    "    EC.presence_of_element_located((By.CLASS_NAME, class_name))\n",
    ")\n",
    "\n",
    "# Get entire page source\n",
    "html = driver.page_source\n",
    "soup = BeautifulSoup(html, \"html.parser\")\n",
    "\n",
    "jd = soup.body.get_text(separator=\"/n\", strip=True).split(\"}\")[-1]\n",
    "parts = jd.split(\"Details zum Jobangebot\")\n",
    "jd = parts[-1]"
   ]
  },
  {
   "cell_type": "code",
   "execution_count": null,
   "id": "55fd106c-0355-4ba6-8a1b-dbbd534c727b",
   "metadata": {},
   "outputs": [],
   "source": [
    "# Since LinkedIN is doing something actively avoiding scrapping, there might be some problems..\n",
    "# print(jd)"
   ]
  },
  {
   "cell_type": "code",
   "execution_count": 99,
   "id": "3f3d5e3a-71ae-4dfc-950e-ba4ab9e7985d",
   "metadata": {},
   "outputs": [
    {
     "name": "stdout",
     "output_type": "stream",
     "text": [
      "You are provided with a job advertisement.You are able to suggest good candidates for this job. Seperate the candidate(s) in the following groups: \n",
      " 1. invite to an interview. \n",
      " 2. not invite to an interview. \n",
      "Also give brief reasoning for you decision. \n"
     ]
    }
   ],
   "source": [
    "# Create a system prompt for deciding wheather there are appropritate candidate for a given job. \n",
    "system_prompt = \"You are provided with a job advertisement.\\\n",
    "You are able to suggest good candidates for this job. \"\n",
    "system_prompt += \"Seperate the candidate(s) in the following groups: \\n 1. invite to an interview. \\n 2. not invite to an interview. \\n\"\n",
    "system_prompt += \"Also give brief reasoning for you decision. \" \n",
    "print(system_prompt)"
   ]
  },
  {
   "cell_type": "code",
   "execution_count": 100,
   "id": "955db4d8-5dcc-4917-bc17-b84e1886f7ef",
   "metadata": {},
   "outputs": [
    {
     "name": "stdout",
     "output_type": "stream",
     "text": [
      "Thejob description is as follows:\n",
      " /nWeiter zur Suche/nWeiter zum Hauptinhalt/nTastaturkurzbefehle/nWechselmenü schließen/nSuche/nStart/nIhr Netzwerk/nJobs/nNachrichten/n15/n15 neue Mitteilungen/nMitteilungen/nSie/nProdukte/nPremium erneuern: 50 % Rabatt/nProfilbesucher:innen/n22/nImpressions von Beiträgen/n1/nZugang zu exklusiven Tools und Analysen/nPremium erneuern: 50 % Rabatt/nGespeicherte Artikel/nGruppen/nNewsletter/nEvents/nBewegen Sie Ihre Datei hierhin/nZiehen Sie Ihre Dateien hierher/nBeitrag beginnen/nVideo/nFoto/nArtikel schreiben/nFeed-Ansicht auswählen:/nRelevanteste zuerst/nFeed-Updates/nNummer des Feedbeitrags 1/nEd Donner/nEd Donner/n• 1./nPremium • 1./nCo-Founder & CTO at Nebula.io, repeat Co-Founder of AI startups, speaker & advisor on Gen AI and LLM Engineering/nCo-Founder & CTO at Nebula.io, repeat Co-Founder of AI startups, speaker & advisor on Gen AI and LLM Engineering/n5 Std. •/nvor 5 Stunden • Alle Mitglieder und Nicht-Mitglieder von LinkedIn/nHere's something quite different from me. A post with no technical buzzwords. And big news!/nI just launched my 3rd Udemy course - only this one isn’t a course at all./nIt’s a briefing, not a course, designed for Leaders and Founders. A business workshop on Gen AI for Execs at all companies from early stage startup to global enterprise./nBuilding a valuable AI business with a moat. Committing to clients when there are R&D unknowns. We obsess over this at/nNebula.io/n./nI get a steady stream of 'blah blah blah' presentations from management consultants in my inbox but they don’t tackle these kinds of thorny problems. So I wanted to make a gritty, real-world briefing, with actionable material on:/n- Distinguishing the hype from reality, the ChatGPT wrappers from differentiated products./n- Devising a strategy around AI Agents that accounts for the considerable opportunities and risks./n- Sponsoring an AI Roadmap that incorporates dataset curation, R&D, resourcing, validation and adoption./n- Leading and championing AI initiatives with measurable ROI./nYou know I’m a hands-on type, and while I had to force myself not to write any code for this 😂, I did make concrete business toolkits for each of the 3 parts:/nBecome an AI Strategist, become an AI Decision-Maker, and become an AI Leader./nIt was edited by a world-class production team and they’ve done a fantastic job with the visuals - rather more slick than my usual pop-art artwork../nThe plan is to make this exclusively available to firms with business relationships with Udemy. But my editor agreed to open it up temporarily to anyone with an invite link so I can share it with my network (you!)/nI’ll paste the link in the comments below. If you’re a senior leader now, or thinking of becoming one, this should be packed with real-world tools that you can put immediately into action./n… mehr/nÜbersetzung anzeigen/nGrößere Bilddarstellung aktivieren,/nGrößere Bilddarstellung aktivieren,/n228/n27 Kommentare/n1 direkt geteilter Beitrag/nGefällt mir/nKommentieren/nTeilen/nSenden/nEd Donner/nAutor:in/nCo-Founder & CTO at Nebula.io, repeat Co-Founder of AI startups, speaker & advisor on Gen AI and LLM Engineering/n5 Std./nHere’s the link to the briefing if you’re interested:/nhttps://www.udemy.com/course/executive-briefing-generative-ai-and-large-language-models-llm/?couponCode=AI_LEADER/nÜbersetzung anzeigen/nÜbersetzung dieses Kommentars anzeigen/nGefällt mir/n8/nAntworten/n1 Anwort/n1 Kommentar zu Ed Donners Kommentar/nArjun Malarmannan PMP CSM CSPO/n• 2./nHarvard| Program Management| Project Management | Product Development | Data Analyst| CSM, PMP, CSPO| Azure Data | Azure AI|/n3 Std./nEd Donner/nGreat to know about this./nÜbersetzung anzeigen/nÜbersetzung dieses Kommentars anzeigen/nGefällt mir/nAntworten/nWeitere Kommentare laden/nWeiter zu LinkedIn News/nNummer des Feedbeitrags 2/nget in IT/nget in IT/nAnzeige/nAnzeige/n\"IT-Fachkräftemangel\" und trotzdem keinen Job als IT-Talent?/nOhne Bewerbungen in den ersten IT-Job starten? Bei uns kein Problem! Hier bewerben sich die IT-Arbeitgeber bei Dir:/nLeg Dir einfach ein kostenloses Profil an und trag Deine IT-Skills ein. Die Arbeitgeber finden Dich auf dieser Basis und senden Dir so passende Job-Anfragen. 🚀/n… mehr/nIT-Arbeitgeber suchen Dich!/nstarte-hier.get-in-it.de/nMehr erfahren. Sponsored Content anzeigen/nMehr erfahren/n98/n1 Kommentar/n1 direkt geteilter Beitrag/nGefällt mir/nKommentieren/nTeilen/nSenden/nWeiter zu LinkedIn News/nNummer des Feedbeitrags 3/nConstantin Rothkopf/nhat dies geteilt/nRoland Fleming/nRoland Fleming/n• 2./nVerifiziert • 2./nKurt Koffka Professor of Experimental Psychology at Justus Liebig University Giessen/nKurt Koffka Professor of Experimental Psychology at Justus Liebig University Giessen/n4 Tage •/nvor 4 Tagen • Alle Mitglieder und Nicht-Mitglieder von LinkedIn/nFolgen/nIt's funded! 🎉 YES!  Our proposal for an Excellence Cluster, \"The Adaptive Mind\" (TAM) is among 70 projects across all Germany and all disciplines that will receive funding for 7 years, starting 2026./nThis will allow us to hire three new Professors, three new Junior Group Leaders and train roughly 100 early-career researchers ... yes, 💯 ... so excited!/nIt's been pretty insane putting this proposal together with 25 PIs, 3 applicant universities (plus extra friends) ... and a budget to match. Easily the hardest challenge of my career so far.  Harder even than science./n… and the human mind, I’m sure we can agree, dear friends, is among the greatest mysteries in all of science.../nWhat we’re hoping to achieve is to measure, model, explain and predict complex natural, adaptive human behaviour. Making the extremely difficult leap from highly-controlled lab experiments to everyday life, where circumstances are uncertain, the range of possible responses is nearly unlimited, and where we constantly have to adapt to unforeseen events./nTAM brings together an amazing team of experimental psychologists, cognitive scientists, neuroscientists, mental health researchers and experts in machine learning, AI and robotics.  Great people, such a fantastic vibe working with everyone.  It's a highly decorated team (multiple Humboldt Professors, Heinz Maier-Leibnitz Prize-winners, Emmy Noether group leaders and between us, 17 ERC grants). Yet zero ego bullshit … what a rare joy!  Love my colleagues!/nIt’s a basic research programme, but we hope the findings will help drive some much-needed innovations in the clinic because understanding adaptation and its failures is the key to explaining and ultimately treating mental disorders at an individualised level, predicting what tips people into and out of psychopathological episodes./nWe also hope The Adaptive Mind will help in the design of safer, more robust and more human-aligned AI and robotics systems because adaptive behaviour is what separates humans from even the most advanced machines. Humans don't separate training and inference and don't need a whole internet's worth of training data, yet we are both more flexible and more robust than current AI.  Adaptation is a central part of that./nHashtag/n#/nscience/n,/nHashtag/n#/nClustersOfExcellence/n,/nHashtag/n#/nExStra/n,/nHashtag/n#/nexcellence/n,/nHashtag/n#/nGermany/n,/nHashtag/n#/npsychology/n,/nHashtag/n#/nneuroscience/n,/nHashtag/n#/nAI/n,/nHashtag/n#/nartificialintelligence/n,/nHashtag/n#/nrobotics/n,/nHashtag/n#/ntechnology/n,/nDeutsche Forschungsgemeinschaft (DFG) - German Research Foundation/n,/nJustus-Liebig-Universität Giessen/n,/nPhilipps-Universität Marburg/n,/nTechnische Universität Darmstadt/n… mehr/nÜbersetzung anzeigen/nGrößere Bilddarstellung aktivieren,/nGrößere Bilddarstellung aktivieren,/n526/n50 Kommentare/n20 direkt geteilte Beiträge/nGefällt mir/nKommentieren/nTeilen/nSenden/nHier finden Sie aktuelle News und Diskussionen./nMehr über die Auswahl dieser Inhalte erfahren/nLinkedIn News/nTop-Storys/nLinkedIn Corporation © 2025/nStatus: offline/nNachrichten/nSie befinden sich in der Nachrichtenüberlagerung. Drücken Sie die Eingabetaste, um die Liste der Unterhaltungen zu öffnen./nNachricht verfassen/nSie befinden sich in der Nachrichtenüberlagerung. Drücken Sie die Eingabetaste, um die Liste der Unterhaltungen zu öffnen./nKommentieren/nTeilen/nSenden/nKommentieren/nTeilen/nSenden/nKommentieren/nTeilen/nSenden/nurn:li:page:d_flagship3_feed;507fe545-078f-453d-988f-38bccff5b03b. \n",
      "\n",
      "The description could be either written in English or German. But you should always respond in English. \n",
      " Tell me the candidates you know are appropriate.\n"
     ]
    }
   ],
   "source": [
    "# Create a user prompt for deciding wheather there are appropritate candidate for a given job. \n",
    "def user_prompt_for_cv_check(jd):\n",
    "    user_prompt = f\"Thejob description is as follows:\\n {jd}. \\n\"\n",
    "    user_prompt += \"\\nThe description could be either written in English or German. But you should always respond in English. \"\n",
    "    user_prompt += \"\\n Tell me the candidates you know are appropriate.\"\n",
    "    return user_prompt\n",
    "\n",
    "print(user_prompt_for_cv_check(jd))"
   ]
  },
  {
   "cell_type": "code",
   "execution_count": 101,
   "id": "f69662f1-9a78-4eb3-819f-69a041b4ab06",
   "metadata": {},
   "outputs": [],
   "source": [
    "# User prompt for retrieving name from a CV.\n",
    "def user_prompt_for_name_retrievement(cv):\n",
    "    \"\"\"\n",
    "    Input:\n",
    "        cv: str of pdf content\n",
    "    \"\"\"\n",
    "    user_prompt = \"You are looking at a CV of a Job applicant \\n\"\n",
    "    user_prompt += \"\\n The contents of this CV is as follows; \\\n",
    "    Please give the name of the applicant. \\n\\n\"\n",
    "    user_prompt += cv\n",
    "    return user_prompt"
   ]
  },
  {
   "cell_type": "code",
   "execution_count": 102,
   "id": "4cc3320a-1e27-48d1-9817-4e2dee729c6b",
   "metadata": {},
   "outputs": [],
   "source": [
    "# Retrieve name from a CV.\n",
    "def retrieve_name(cv_content: str) -> str:\n",
    "    \"\"\"\n",
    "    Given the content of an applicant CV, return the name of the applicant.\n",
    "    Args:\n",
    "        cv_content (str): A str of CV.\n",
    "    Returns:\n",
    "        str: The name of the applicant.\n",
    "    \"\"\"\n",
    "    system_prompt_name_retrievement = \"You are an Assistant analyzes the contents of a CV \\\n",
    "    and provides the name of the CV holder. Ignoring text that might be part of a symbol. \\\n",
    "    Output only the name of the CV holder, nothing else.\"\n",
    "\n",
    "    user_prompt = user_prompt_for_name_retrievement(cv_content)\n",
    "\n",
    "    messages = [\n",
    "        \n",
    "        {\"role\": \"system\", \"content\": system_prompt_name_retrievement},\n",
    "        {\"role\": \"user\", \"content\": user_prompt}\n",
    "    ]\n",
    "\n",
    "    response = openai.chat.completions.create(model=\"gpt-4o-mini\", messages=messages)\n",
    "\n",
    "    return response.choices[0].message.content"
   ]
  },
  {
   "cell_type": "code",
   "execution_count": 103,
   "id": "2e30ac21-bb83-4b9c-856a-0fac6a3c4ab5",
   "metadata": {},
   "outputs": [],
   "source": [
    "# Read in the content of CVs in the folder.\n",
    "cv_contents = []  # contents from all the cvs in the folder\n",
    "for cv in cvs:\n",
    "    loader = PyPDFLoader(cv)\n",
    "    pages = loader.load() # 2 objects for 2 pages\n",
    "    applicant_name = retrieve_name(pages[0].page_content)\n",
    "    for page in pages:\n",
    "        page.metadata[\"applicant_name\"] = applicant_name\n",
    "        cv_contents.append(page)\n",
    "\n",
    "# cv_contents[0].page_content"
   ]
  },
  {
   "cell_type": "code",
   "execution_count": 104,
   "id": "43601891-5e5b-417a-9eba-1ad449ff1ff3",
   "metadata": {},
   "outputs": [
    {
     "data": {
      "text/plain": [
       "4"
      ]
     },
     "execution_count": 104,
     "metadata": {},
     "output_type": "execute_result"
    }
   ],
   "source": [
    "# Divide texts into chunks.\n",
    "text_splitter = CharacterTextSplitter(chunk_size=500, chunk_overlap=50)\n",
    "chunks = text_splitter.split_documents(cv_contents)\n",
    "len(chunks)\n",
    "#chunks[1]"
   ]
  },
  {
   "cell_type": "code",
   "execution_count": 105,
   "id": "e7ca984d-2962-4d4f-a740-7baf6fb683ab",
   "metadata": {},
   "outputs": [],
   "source": [
    "# Convert chunks into embeddings.\n",
    "embeddings = OpenAIEmbeddings()\n",
    "if os.path.exists(db_name):\n",
    "    Chroma(persist_directory=db_name, embedding_function=embeddings).delete_collection()\n",
    "\n",
    "vectorstore = Chroma.from_documents(documents=chunks, embedding=embeddings, persist_directory=db_name)"
   ]
  },
  {
   "cell_type": "code",
   "execution_count": 113,
   "id": "4e724177-ce6f-4b32-9f98-927e8cf69fb9",
   "metadata": {},
   "outputs": [],
   "source": [
    "# Initialization\n",
    "llm = ChatOpenAI(temperature=0.7, model_name=MODEL)\n",
    "\n",
    "memory = ConversationBufferMemory(memory_key='chat_history', return_messages=True)\n",
    "\n",
    "retriever = vectorstore.as_retriever(search_kwargs={\"k\": 3})\n",
    "\n",
    "conversation_chain = ConversationalRetrievalChain.from_llm(llm=llm, retriever=retriever, memory=memory)"
   ]
  },
  {
   "cell_type": "code",
   "execution_count": 114,
   "id": "37e257cb-7096-4ccf-8c96-bcd24e972a3d",
   "metadata": {},
   "outputs": [
    {
     "name": "stdout",
     "output_type": "stream",
     "text": [
      "I have information on two candidates: John Doe and Zeyuan Sun.\n"
     ]
    }
   ],
   "source": [
    "query = \"Please tell me whether it is a good candidate for the job and why.\"\n",
    "query_1 = user_prompt_for_cv_check(jd)\n",
    "query_2 = \"How many candidates do you have? Tell me their names. \"\n",
    "result = conversation_chain.invoke({\"question\": query_2})\n",
    "print(result[\"answer\"])"
   ]
  },
  {
   "cell_type": "code",
   "execution_count": null,
   "id": "22f93536-e943-45d4-b813-0b94ec2e082e",
   "metadata": {},
   "outputs": [],
   "source": []
  }
 ],
 "metadata": {
  "kernelspec": {
   "display_name": "Python 3 (ipykernel)",
   "language": "python",
   "name": "python3"
  },
  "language_info": {
   "codemirror_mode": {
    "name": "ipython",
    "version": 3
   },
   "file_extension": ".py",
   "mimetype": "text/x-python",
   "name": "python",
   "nbconvert_exporter": "python",
   "pygments_lexer": "ipython3",
   "version": "3.11.11"
  }
 },
 "nbformat": 4,
 "nbformat_minor": 5
}
